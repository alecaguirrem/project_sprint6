{
 "cells": [
  {
   "cell_type": "markdown",
   "metadata": {},
   "source": [
    "# Paso 1. Abrir el archivo y observar la información general."
   ]
  },
  {
   "cell_type": "code",
   "execution_count": 1,
   "metadata": {
    "scrolled": false,
    "trusted": false
   },
   "outputs": [
    {
     "name": "stdout",
     "output_type": "stream",
     "text": [
      "<class 'pandas.core.frame.DataFrame'>\n",
      "RangeIndex: 16715 entries, 0 to 16714\n",
      "Data columns (total 11 columns):\n",
      " #   Column           Non-Null Count  Dtype  \n",
      "---  ------           --------------  -----  \n",
      " 0   Name             16713 non-null  object \n",
      " 1   Platform         16715 non-null  object \n",
      " 2   Year_of_Release  16446 non-null  float64\n",
      " 3   Genre            16713 non-null  object \n",
      " 4   NA_sales         16715 non-null  float64\n",
      " 5   EU_sales         16715 non-null  float64\n",
      " 6   JP_sales         16715 non-null  float64\n",
      " 7   Other_sales      16715 non-null  float64\n",
      " 8   Critic_Score     8137 non-null   float64\n",
      " 9   User_Score       10014 non-null  object \n",
      " 10  Rating           9949 non-null   object \n",
      "dtypes: float64(6), object(5)\n",
      "memory usage: 1.4+ MB\n"
     ]
    },
    {
     "data": {
      "text/html": [
       "<div>\n",
       "<style scoped>\n",
       "    .dataframe tbody tr th:only-of-type {\n",
       "        vertical-align: middle;\n",
       "    }\n",
       "\n",
       "    .dataframe tbody tr th {\n",
       "        vertical-align: top;\n",
       "    }\n",
       "\n",
       "    .dataframe thead th {\n",
       "        text-align: right;\n",
       "    }\n",
       "</style>\n",
       "<table border=\"1\" class=\"dataframe\">\n",
       "  <thead>\n",
       "    <tr style=\"text-align: right;\">\n",
       "      <th></th>\n",
       "      <th>Name</th>\n",
       "      <th>Platform</th>\n",
       "      <th>Year_of_Release</th>\n",
       "      <th>Genre</th>\n",
       "      <th>NA_sales</th>\n",
       "      <th>EU_sales</th>\n",
       "      <th>JP_sales</th>\n",
       "      <th>Other_sales</th>\n",
       "      <th>Critic_Score</th>\n",
       "      <th>User_Score</th>\n",
       "      <th>Rating</th>\n",
       "    </tr>\n",
       "  </thead>\n",
       "  <tbody>\n",
       "    <tr>\n",
       "      <th>0</th>\n",
       "      <td>Wii Sports</td>\n",
       "      <td>Wii</td>\n",
       "      <td>2006.0</td>\n",
       "      <td>Sports</td>\n",
       "      <td>41.36</td>\n",
       "      <td>28.96</td>\n",
       "      <td>3.77</td>\n",
       "      <td>8.45</td>\n",
       "      <td>76.0</td>\n",
       "      <td>8</td>\n",
       "      <td>E</td>\n",
       "    </tr>\n",
       "    <tr>\n",
       "      <th>1</th>\n",
       "      <td>Super Mario Bros.</td>\n",
       "      <td>NES</td>\n",
       "      <td>1985.0</td>\n",
       "      <td>Platform</td>\n",
       "      <td>29.08</td>\n",
       "      <td>3.58</td>\n",
       "      <td>6.81</td>\n",
       "      <td>0.77</td>\n",
       "      <td>NaN</td>\n",
       "      <td>NaN</td>\n",
       "      <td>NaN</td>\n",
       "    </tr>\n",
       "    <tr>\n",
       "      <th>2</th>\n",
       "      <td>Mario Kart Wii</td>\n",
       "      <td>Wii</td>\n",
       "      <td>2008.0</td>\n",
       "      <td>Racing</td>\n",
       "      <td>15.68</td>\n",
       "      <td>12.76</td>\n",
       "      <td>3.79</td>\n",
       "      <td>3.29</td>\n",
       "      <td>82.0</td>\n",
       "      <td>8.3</td>\n",
       "      <td>E</td>\n",
       "    </tr>\n",
       "    <tr>\n",
       "      <th>3</th>\n",
       "      <td>Wii Sports Resort</td>\n",
       "      <td>Wii</td>\n",
       "      <td>2009.0</td>\n",
       "      <td>Sports</td>\n",
       "      <td>15.61</td>\n",
       "      <td>10.93</td>\n",
       "      <td>3.28</td>\n",
       "      <td>2.95</td>\n",
       "      <td>80.0</td>\n",
       "      <td>8</td>\n",
       "      <td>E</td>\n",
       "    </tr>\n",
       "    <tr>\n",
       "      <th>4</th>\n",
       "      <td>Pokemon Red/Pokemon Blue</td>\n",
       "      <td>GB</td>\n",
       "      <td>1996.0</td>\n",
       "      <td>Role-Playing</td>\n",
       "      <td>11.27</td>\n",
       "      <td>8.89</td>\n",
       "      <td>10.22</td>\n",
       "      <td>1.00</td>\n",
       "      <td>NaN</td>\n",
       "      <td>NaN</td>\n",
       "      <td>NaN</td>\n",
       "    </tr>\n",
       "    <tr>\n",
       "      <th>...</th>\n",
       "      <td>...</td>\n",
       "      <td>...</td>\n",
       "      <td>...</td>\n",
       "      <td>...</td>\n",
       "      <td>...</td>\n",
       "      <td>...</td>\n",
       "      <td>...</td>\n",
       "      <td>...</td>\n",
       "      <td>...</td>\n",
       "      <td>...</td>\n",
       "      <td>...</td>\n",
       "    </tr>\n",
       "    <tr>\n",
       "      <th>16710</th>\n",
       "      <td>Samurai Warriors: Sanada Maru</td>\n",
       "      <td>PS3</td>\n",
       "      <td>2016.0</td>\n",
       "      <td>Action</td>\n",
       "      <td>0.00</td>\n",
       "      <td>0.00</td>\n",
       "      <td>0.01</td>\n",
       "      <td>0.00</td>\n",
       "      <td>NaN</td>\n",
       "      <td>NaN</td>\n",
       "      <td>NaN</td>\n",
       "    </tr>\n",
       "    <tr>\n",
       "      <th>16711</th>\n",
       "      <td>LMA Manager 2007</td>\n",
       "      <td>X360</td>\n",
       "      <td>2006.0</td>\n",
       "      <td>Sports</td>\n",
       "      <td>0.00</td>\n",
       "      <td>0.01</td>\n",
       "      <td>0.00</td>\n",
       "      <td>0.00</td>\n",
       "      <td>NaN</td>\n",
       "      <td>NaN</td>\n",
       "      <td>NaN</td>\n",
       "    </tr>\n",
       "    <tr>\n",
       "      <th>16712</th>\n",
       "      <td>Haitaka no Psychedelica</td>\n",
       "      <td>PSV</td>\n",
       "      <td>2016.0</td>\n",
       "      <td>Adventure</td>\n",
       "      <td>0.00</td>\n",
       "      <td>0.00</td>\n",
       "      <td>0.01</td>\n",
       "      <td>0.00</td>\n",
       "      <td>NaN</td>\n",
       "      <td>NaN</td>\n",
       "      <td>NaN</td>\n",
       "    </tr>\n",
       "    <tr>\n",
       "      <th>16713</th>\n",
       "      <td>Spirits &amp; Spells</td>\n",
       "      <td>GBA</td>\n",
       "      <td>2003.0</td>\n",
       "      <td>Platform</td>\n",
       "      <td>0.01</td>\n",
       "      <td>0.00</td>\n",
       "      <td>0.00</td>\n",
       "      <td>0.00</td>\n",
       "      <td>NaN</td>\n",
       "      <td>NaN</td>\n",
       "      <td>NaN</td>\n",
       "    </tr>\n",
       "    <tr>\n",
       "      <th>16714</th>\n",
       "      <td>Winning Post 8 2016</td>\n",
       "      <td>PSV</td>\n",
       "      <td>2016.0</td>\n",
       "      <td>Simulation</td>\n",
       "      <td>0.00</td>\n",
       "      <td>0.00</td>\n",
       "      <td>0.01</td>\n",
       "      <td>0.00</td>\n",
       "      <td>NaN</td>\n",
       "      <td>NaN</td>\n",
       "      <td>NaN</td>\n",
       "    </tr>\n",
       "  </tbody>\n",
       "</table>\n",
       "<p>16715 rows × 11 columns</p>\n",
       "</div>"
      ],
      "text/plain": [
       "                                Name Platform  Year_of_Release         Genre  \\\n",
       "0                         Wii Sports      Wii           2006.0        Sports   \n",
       "1                  Super Mario Bros.      NES           1985.0      Platform   \n",
       "2                     Mario Kart Wii      Wii           2008.0        Racing   \n",
       "3                  Wii Sports Resort      Wii           2009.0        Sports   \n",
       "4           Pokemon Red/Pokemon Blue       GB           1996.0  Role-Playing   \n",
       "...                              ...      ...              ...           ...   \n",
       "16710  Samurai Warriors: Sanada Maru      PS3           2016.0        Action   \n",
       "16711               LMA Manager 2007     X360           2006.0        Sports   \n",
       "16712        Haitaka no Psychedelica      PSV           2016.0     Adventure   \n",
       "16713               Spirits & Spells      GBA           2003.0      Platform   \n",
       "16714            Winning Post 8 2016      PSV           2016.0    Simulation   \n",
       "\n",
       "       NA_sales  EU_sales  JP_sales  Other_sales  Critic_Score User_Score  \\\n",
       "0         41.36     28.96      3.77         8.45          76.0          8   \n",
       "1         29.08      3.58      6.81         0.77           NaN        NaN   \n",
       "2         15.68     12.76      3.79         3.29          82.0        8.3   \n",
       "3         15.61     10.93      3.28         2.95          80.0          8   \n",
       "4         11.27      8.89     10.22         1.00           NaN        NaN   \n",
       "...         ...       ...       ...          ...           ...        ...   \n",
       "16710      0.00      0.00      0.01         0.00           NaN        NaN   \n",
       "16711      0.00      0.01      0.00         0.00           NaN        NaN   \n",
       "16712      0.00      0.00      0.01         0.00           NaN        NaN   \n",
       "16713      0.01      0.00      0.00         0.00           NaN        NaN   \n",
       "16714      0.00      0.00      0.01         0.00           NaN        NaN   \n",
       "\n",
       "      Rating  \n",
       "0          E  \n",
       "1        NaN  \n",
       "2          E  \n",
       "3          E  \n",
       "4        NaN  \n",
       "...      ...  \n",
       "16710    NaN  \n",
       "16711    NaN  \n",
       "16712    NaN  \n",
       "16713    NaN  \n",
       "16714    NaN  \n",
       "\n",
       "[16715 rows x 11 columns]"
      ]
     },
     "metadata": {},
     "output_type": "display_data"
    }
   ],
   "source": [
    "import pandas as pd\n",
    "import numpy as np\n",
    "from matplotlib import pyplot as plt\n",
    "import seaborn as sns\n",
    "from math import factorial\n",
    "from scipy import stats as st\n",
    "import math as mt\n",
    "from scipy.stats import levene\n",
    "\n",
    "df = pd.read_csv(\"/datasets/games.csv\")\n",
    "\n",
    "df.info()\n",
    "display(df)"
   ]
  },
  {
   "cell_type": "markdown",
   "metadata": {},
   "source": [
    "# Paso 2. Preparar los datos y mostrarlos."
   ]
  },
  {
   "cell_type": "code",
   "execution_count": 2,
   "metadata": {
    "trusted": false
   },
   "outputs": [],
   "source": [
    "# Reemplaza los nombres de las columnas, columna \"name\",\"platform\" y \"genre\" (ponlos en minúsculas).\n",
    "df.columns = df.columns.str.lower()\n",
    "df[\"name\"] = df[\"name\"].str.lower()\n",
    "df[\"platform\"] = df[\"platform\"].str.lower()\n",
    "df[\"genre\"] = df[\"genre\"].str.lower()\n",
    "\n",
    "# Al agrupar los datos por plataformas, hay algunas consolas que no tienen una cantidad significativa de \n",
    "# ventas totales, por ejemplo 3do, gg, ng, pcfx, tg16, scd y ws. Las voy a eliminar ya que no son relevantes \n",
    "# para este estudio. \n",
    "df = df[~df[\"platform\"].isin([\"3do\",\"gg\",\"ng\",\"pcfx\",\"tg16\",\"scd\",\"ws\"])]"
   ]
  },
  {
   "cell_type": "code",
   "execution_count": 3,
   "metadata": {
    "trusted": false
   },
   "outputs": [],
   "source": [
    "# Datos ausentes y otras correcciones de cada columna.\n",
    "    # Columna \"name\". Hay 2 títulos de juegos que están como ausentes, voy a sustituirlos como \"unknown\"\n",
    "df[\"name\"] = df[\"name\"].fillna(\"unknown\")\n",
    "\n",
    "    # Columna \"platform\", en esta columna hay una consola llamada 2600, para evitar confusiones de que haya \n",
    "    # algún error de que se trata de un número, voy a sustituirlo por atari, que es el otro nombre de la \n",
    "    # consola.\n",
    "df[\"platform\"] = df[\"platform\"].replace(\"2600\",\"atari\")\n",
    "\n",
    "    # Columna \"year_of_release\". Hay 269 valores ausentes, voy a obtener la mediana de los años en los que \n",
    "    # cada consola estuvo lanzando juegos, así los títulos que no tienen año tendrán un año de lanzamiento\n",
    "    # erroneo tal vez, pero estará dentro del rango de años en los que cada consola estuvo lanzando juegos.\n",
    "    \n",
    "platforms = df[\"platform\"].unique().tolist()\n",
    "grupo = df.groupby(by=\"platform\")[\"year_of_release\"].median()\n",
    "df[\"year_of_release\"] = df[\"year_of_release\"].fillna(\"na\")\n",
    "\n",
    "for platform in platforms:\n",
    "    mask = (df[\"platform\"]==platform) & (df[\"year_of_release\"]==\"na\")\n",
    "    df.loc[mask,\"year_of_release\"] = grupo.loc[platform]\n",
    "\n",
    "df[\"year_of_release\"] = df[\"year_of_release\"].astype(int)\n",
    "\n",
    "    # Columna \"genre\". Hay 2 valores ausentes, al buscar que títulos son aparecen con el nombre de \n",
    "    # unknown, por lo cual para este estudio no son datos relevantes asi que se pueden eliminar. \n",
    "df = df.dropna(subset=[\"genre\"])\n",
    "\n",
    "    # Columnas \"critic_score\" y \"user_score\". Para tener una misma escala de puntuación entre la columna \n",
    "    # critic_score y user_score, voy a divir los valores entre 10. Si se busca la mediana y la media de\n",
    "    # las columnas critic_score y user_score ambas columnas tienen valores muy similares, voy a asignar \n",
    "    # la media a los valores ausentes. Los valores definidos como \"tbd\" los definire como ausentes \n",
    "    # y después sustituirlos por la media.\n",
    "df[\"critic_score\"] = df[\"critic_score\"] / 10\n",
    "df[\"critic_score\"] = df[\"critic_score\"].fillna(df[\"critic_score\"].mean())\n",
    "df[\"user_score\"] = df[\"user_score\"].replace(\"tbd\",np.nan)\n",
    "df[\"user_score\"] = df[\"user_score\"].astype(float)\n",
    "df[\"user_score\"] = df[\"user_score\"].fillna(df[\"user_score\"].mean())\n",
    "\n",
    "        # Columna \"rating\". La clasificación ESRB se inventó en 1994, por lo cual ningún juego antes de \n",
    "        # este año tendría una clasificación dada por este rating, el resto de juegos podría definirse como\n",
    "        # NR (not ranked) o unknown.  \n",
    "df[\"rating\"] = df[\"rating\"].fillna(\"NR\")\n",
    "\n",
    "        # Columna \"total_sales\". Voy a crear una columna nueva con las ventas totales de cada videojuego.\n",
    "df[\"total_sales\"] = df[\"na_sales\"] + df[\"eu_sales\"] + df[\"jp_sales\"] + df[\"other_sales\"]"
   ]
  },
  {
   "cell_type": "code",
   "execution_count": 4,
   "metadata": {
    "scrolled": true,
    "trusted": false
   },
   "outputs": [
    {
     "name": "stdout",
     "output_type": "stream",
     "text": [
      "<class 'pandas.core.frame.DataFrame'>\n",
      "Int64Index: 16682 entries, 0 to 16714\n",
      "Data columns (total 12 columns):\n",
      " #   Column           Non-Null Count  Dtype  \n",
      "---  ------           --------------  -----  \n",
      " 0   name             16682 non-null  object \n",
      " 1   platform         16682 non-null  object \n",
      " 2   year_of_release  16682 non-null  int64  \n",
      " 3   genre            16682 non-null  object \n",
      " 4   na_sales         16682 non-null  float64\n",
      " 5   eu_sales         16682 non-null  float64\n",
      " 6   jp_sales         16682 non-null  float64\n",
      " 7   other_sales      16682 non-null  float64\n",
      " 8   critic_score     16682 non-null  float64\n",
      " 9   user_score       16682 non-null  float64\n",
      " 10  rating           16682 non-null  object \n",
      " 11  total_sales      16682 non-null  float64\n",
      "dtypes: float64(7), int64(1), object(4)\n",
      "memory usage: 1.7+ MB\n"
     ]
    },
    {
     "data": {
      "text/html": [
       "<div>\n",
       "<style scoped>\n",
       "    .dataframe tbody tr th:only-of-type {\n",
       "        vertical-align: middle;\n",
       "    }\n",
       "\n",
       "    .dataframe tbody tr th {\n",
       "        vertical-align: top;\n",
       "    }\n",
       "\n",
       "    .dataframe thead th {\n",
       "        text-align: right;\n",
       "    }\n",
       "</style>\n",
       "<table border=\"1\" class=\"dataframe\">\n",
       "  <thead>\n",
       "    <tr style=\"text-align: right;\">\n",
       "      <th></th>\n",
       "      <th>name</th>\n",
       "      <th>platform</th>\n",
       "      <th>year_of_release</th>\n",
       "      <th>genre</th>\n",
       "      <th>na_sales</th>\n",
       "      <th>eu_sales</th>\n",
       "      <th>jp_sales</th>\n",
       "      <th>other_sales</th>\n",
       "      <th>critic_score</th>\n",
       "      <th>user_score</th>\n",
       "      <th>rating</th>\n",
       "      <th>total_sales</th>\n",
       "    </tr>\n",
       "  </thead>\n",
       "  <tbody>\n",
       "    <tr>\n",
       "      <th>0</th>\n",
       "      <td>wii sports</td>\n",
       "      <td>wii</td>\n",
       "      <td>2006</td>\n",
       "      <td>sports</td>\n",
       "      <td>41.36</td>\n",
       "      <td>28.96</td>\n",
       "      <td>3.77</td>\n",
       "      <td>8.45</td>\n",
       "      <td>7.600000</td>\n",
       "      <td>8.000000</td>\n",
       "      <td>E</td>\n",
       "      <td>82.54</td>\n",
       "    </tr>\n",
       "    <tr>\n",
       "      <th>1</th>\n",
       "      <td>super mario bros.</td>\n",
       "      <td>nes</td>\n",
       "      <td>1985</td>\n",
       "      <td>platform</td>\n",
       "      <td>29.08</td>\n",
       "      <td>3.58</td>\n",
       "      <td>6.81</td>\n",
       "      <td>0.77</td>\n",
       "      <td>6.896768</td>\n",
       "      <td>7.125046</td>\n",
       "      <td>NR</td>\n",
       "      <td>40.24</td>\n",
       "    </tr>\n",
       "    <tr>\n",
       "      <th>2</th>\n",
       "      <td>mario kart wii</td>\n",
       "      <td>wii</td>\n",
       "      <td>2008</td>\n",
       "      <td>racing</td>\n",
       "      <td>15.68</td>\n",
       "      <td>12.76</td>\n",
       "      <td>3.79</td>\n",
       "      <td>3.29</td>\n",
       "      <td>8.200000</td>\n",
       "      <td>8.300000</td>\n",
       "      <td>E</td>\n",
       "      <td>35.52</td>\n",
       "    </tr>\n",
       "    <tr>\n",
       "      <th>3</th>\n",
       "      <td>wii sports resort</td>\n",
       "      <td>wii</td>\n",
       "      <td>2009</td>\n",
       "      <td>sports</td>\n",
       "      <td>15.61</td>\n",
       "      <td>10.93</td>\n",
       "      <td>3.28</td>\n",
       "      <td>2.95</td>\n",
       "      <td>8.000000</td>\n",
       "      <td>8.000000</td>\n",
       "      <td>E</td>\n",
       "      <td>32.77</td>\n",
       "    </tr>\n",
       "    <tr>\n",
       "      <th>4</th>\n",
       "      <td>pokemon red/pokemon blue</td>\n",
       "      <td>gb</td>\n",
       "      <td>1996</td>\n",
       "      <td>role-playing</td>\n",
       "      <td>11.27</td>\n",
       "      <td>8.89</td>\n",
       "      <td>10.22</td>\n",
       "      <td>1.00</td>\n",
       "      <td>6.896768</td>\n",
       "      <td>7.125046</td>\n",
       "      <td>NR</td>\n",
       "      <td>31.38</td>\n",
       "    </tr>\n",
       "    <tr>\n",
       "      <th>...</th>\n",
       "      <td>...</td>\n",
       "      <td>...</td>\n",
       "      <td>...</td>\n",
       "      <td>...</td>\n",
       "      <td>...</td>\n",
       "      <td>...</td>\n",
       "      <td>...</td>\n",
       "      <td>...</td>\n",
       "      <td>...</td>\n",
       "      <td>...</td>\n",
       "      <td>...</td>\n",
       "      <td>...</td>\n",
       "    </tr>\n",
       "    <tr>\n",
       "      <th>16710</th>\n",
       "      <td>samurai warriors: sanada maru</td>\n",
       "      <td>ps3</td>\n",
       "      <td>2016</td>\n",
       "      <td>action</td>\n",
       "      <td>0.00</td>\n",
       "      <td>0.00</td>\n",
       "      <td>0.01</td>\n",
       "      <td>0.00</td>\n",
       "      <td>6.896768</td>\n",
       "      <td>7.125046</td>\n",
       "      <td>NR</td>\n",
       "      <td>0.01</td>\n",
       "    </tr>\n",
       "    <tr>\n",
       "      <th>16711</th>\n",
       "      <td>lma manager 2007</td>\n",
       "      <td>x360</td>\n",
       "      <td>2006</td>\n",
       "      <td>sports</td>\n",
       "      <td>0.00</td>\n",
       "      <td>0.01</td>\n",
       "      <td>0.00</td>\n",
       "      <td>0.00</td>\n",
       "      <td>6.896768</td>\n",
       "      <td>7.125046</td>\n",
       "      <td>NR</td>\n",
       "      <td>0.01</td>\n",
       "    </tr>\n",
       "    <tr>\n",
       "      <th>16712</th>\n",
       "      <td>haitaka no psychedelica</td>\n",
       "      <td>psv</td>\n",
       "      <td>2016</td>\n",
       "      <td>adventure</td>\n",
       "      <td>0.00</td>\n",
       "      <td>0.00</td>\n",
       "      <td>0.01</td>\n",
       "      <td>0.00</td>\n",
       "      <td>6.896768</td>\n",
       "      <td>7.125046</td>\n",
       "      <td>NR</td>\n",
       "      <td>0.01</td>\n",
       "    </tr>\n",
       "    <tr>\n",
       "      <th>16713</th>\n",
       "      <td>spirits &amp; spells</td>\n",
       "      <td>gba</td>\n",
       "      <td>2003</td>\n",
       "      <td>platform</td>\n",
       "      <td>0.01</td>\n",
       "      <td>0.00</td>\n",
       "      <td>0.00</td>\n",
       "      <td>0.00</td>\n",
       "      <td>6.896768</td>\n",
       "      <td>7.125046</td>\n",
       "      <td>NR</td>\n",
       "      <td>0.01</td>\n",
       "    </tr>\n",
       "    <tr>\n",
       "      <th>16714</th>\n",
       "      <td>winning post 8 2016</td>\n",
       "      <td>psv</td>\n",
       "      <td>2016</td>\n",
       "      <td>simulation</td>\n",
       "      <td>0.00</td>\n",
       "      <td>0.00</td>\n",
       "      <td>0.01</td>\n",
       "      <td>0.00</td>\n",
       "      <td>6.896768</td>\n",
       "      <td>7.125046</td>\n",
       "      <td>NR</td>\n",
       "      <td>0.01</td>\n",
       "    </tr>\n",
       "  </tbody>\n",
       "</table>\n",
       "<p>16682 rows × 12 columns</p>\n",
       "</div>"
      ],
      "text/plain": [
       "                                name platform  year_of_release         genre  \\\n",
       "0                         wii sports      wii             2006        sports   \n",
       "1                  super mario bros.      nes             1985      platform   \n",
       "2                     mario kart wii      wii             2008        racing   \n",
       "3                  wii sports resort      wii             2009        sports   \n",
       "4           pokemon red/pokemon blue       gb             1996  role-playing   \n",
       "...                              ...      ...              ...           ...   \n",
       "16710  samurai warriors: sanada maru      ps3             2016        action   \n",
       "16711               lma manager 2007     x360             2006        sports   \n",
       "16712        haitaka no psychedelica      psv             2016     adventure   \n",
       "16713               spirits & spells      gba             2003      platform   \n",
       "16714            winning post 8 2016      psv             2016    simulation   \n",
       "\n",
       "       na_sales  eu_sales  jp_sales  other_sales  critic_score  user_score  \\\n",
       "0         41.36     28.96      3.77         8.45      7.600000    8.000000   \n",
       "1         29.08      3.58      6.81         0.77      6.896768    7.125046   \n",
       "2         15.68     12.76      3.79         3.29      8.200000    8.300000   \n",
       "3         15.61     10.93      3.28         2.95      8.000000    8.000000   \n",
       "4         11.27      8.89     10.22         1.00      6.896768    7.125046   \n",
       "...         ...       ...       ...          ...           ...         ...   \n",
       "16710      0.00      0.00      0.01         0.00      6.896768    7.125046   \n",
       "16711      0.00      0.01      0.00         0.00      6.896768    7.125046   \n",
       "16712      0.00      0.00      0.01         0.00      6.896768    7.125046   \n",
       "16713      0.01      0.00      0.00         0.00      6.896768    7.125046   \n",
       "16714      0.00      0.00      0.01         0.00      6.896768    7.125046   \n",
       "\n",
       "      rating  total_sales  \n",
       "0          E        82.54  \n",
       "1         NR        40.24  \n",
       "2          E        35.52  \n",
       "3          E        32.77  \n",
       "4         NR        31.38  \n",
       "...      ...          ...  \n",
       "16710     NR         0.01  \n",
       "16711     NR         0.01  \n",
       "16712     NR         0.01  \n",
       "16713     NR         0.01  \n",
       "16714     NR         0.01  \n",
       "\n",
       "[16682 rows x 12 columns]"
      ]
     },
     "metadata": {},
     "output_type": "display_data"
    }
   ],
   "source": [
    "df.info()\n",
    "display(df)"
   ]
  },
  {
   "cell_type": "markdown",
   "metadata": {},
   "source": [
    "# Paso 3. Analizar los datos."
   ]
  },
  {
   "cell_type": "markdown",
   "metadata": {},
   "source": [
    "Mira cuántos juegos fueron lanzados en diferentes años. ¿Son significativos los datos de cada período?"
   ]
  },
  {
   "cell_type": "code",
   "execution_count": 5,
   "metadata": {
    "trusted": false
   },
   "outputs": [
    {
     "name": "stdout",
     "output_type": "stream",
     "text": [
      "La consola wii lanzó juegos desde 2006 hasta 2016\n",
      "La consola nes lanzó juegos desde 1983 hasta 1994\n",
      "La consola gb lanzó juegos desde 1988 hasta 2001\n",
      "La consola ds lanzó juegos desde 1985 hasta 2013\n",
      "La consola x360 lanzó juegos desde 2005 hasta 2016\n",
      "La consola ps3 lanzó juegos desde 2006 hasta 2016\n",
      "La consola ps2 lanzó juegos desde 2000 hasta 2011\n",
      "La consola snes lanzó juegos desde 1990 hasta 1999\n",
      "La consola gba lanzó juegos desde 2000 hasta 2007\n",
      "La consola ps4 lanzó juegos desde 2013 hasta 2016\n",
      "La consola 3ds lanzó juegos desde 2011 hasta 2016\n",
      "La consola n64 lanzó juegos desde 1996 hasta 2002\n",
      "La consola ps lanzó juegos desde 1994 hasta 2003\n",
      "La consola xb lanzó juegos desde 2000 hasta 2008\n",
      "La consola pc lanzó juegos desde 1985 hasta 2016\n",
      "La consola atari lanzó juegos desde 1980 hasta 1989\n",
      "La consola psp lanzó juegos desde 2004 hasta 2015\n",
      "La consola xone lanzó juegos desde 2013 hasta 2016\n",
      "La consola wiiu lanzó juegos desde 2012 hasta 2016\n",
      "La consola gc lanzó juegos desde 2001 hasta 2007\n",
      "La consola gen lanzó juegos desde 1990 hasta 1994\n",
      "La consola dc lanzó juegos desde 1998 hasta 2008\n",
      "La consola psv lanzó juegos desde 2011 hasta 2016\n",
      "La consola sat lanzó juegos desde 1994 hasta 1999\n"
     ]
    }
   ],
   "source": [
    "for platform in platforms:\n",
    "    print(f'La consola {platform} lanzó juegos desde {df[\"year_of_release\"][df[\"platform\"]==platform].min()} hasta {df[\"year_of_release\"][df[\"platform\"]==platform].max()}')"
   ]
  },
  {
   "cell_type": "markdown",
   "metadata": {},
   "source": [
    "Observa cómo varían las ventas de una plataforma a otra. Elige las plataformas con las mayores ventas totales y construye una distribución basada en los datos de cada año."
   ]
  },
  {
   "cell_type": "code",
   "execution_count": 6,
   "metadata": {
    "trusted": false
   },
   "outputs": [
    {
     "name": "stdout",
     "output_type": "stream",
     "text": [
      "platform\n",
      "ps2     1255.77\n",
      "x360     971.42\n",
      "ps3      939.65\n",
      "wii      907.51\n",
      "ds       806.12\n",
      "Name: total_sales, dtype: float64\n"
     ]
    }
   ],
   "source": [
    "# las 5 mayores consolas con ventas totales son: Playstation 2, Xbox 360, Playstation 3, Nintendo Wii y Nintendo DS.\n",
    "ventas = df.groupby(by=\"platform\")[\"total_sales\"].sum()\n",
    "print(ventas.sort_values(ascending=False).head())"
   ]
  },
  {
   "cell_type": "code",
   "execution_count": 7,
   "metadata": {
    "trusted": false
   },
   "outputs": [
    {
     "name": "stdout",
     "output_type": "stream",
     "text": [
      "    platform  year_of_release  total_sales_x  total_sales_y  distribution\n",
      "122      ps2             2000          39.17        1255.77      0.031192\n",
      "123      ps2             2001         166.43        1255.77      0.132532\n",
      "124      ps2             2002         205.38        1255.77      0.163549\n",
      "125      ps2             2003         184.31        1255.77      0.146771\n",
      "126      ps2             2004         211.81        1255.77      0.168669\n",
      "127      ps2             2005         182.87        1255.77      0.145624\n",
      "128      ps2             2006         103.42        1255.77      0.082356\n",
      "129      ps2             2007          75.99        1255.77      0.060513\n",
      "130      ps2             2008          53.90        1255.77      0.042922\n",
      "131      ps2             2009          26.40        1255.77      0.021023\n",
      "132      ps2             2010           5.64        1255.77      0.004491\n",
      "133      ps2             2011           0.45        1255.77      0.000358\n",
      "    platform  year_of_release  total_sales_x  total_sales_y  distribution\n",
      "199     x360             2005           8.25         971.42      0.008493\n",
      "200     x360             2006          51.62         971.42      0.053139\n",
      "201     x360             2007          95.41         971.42      0.098217\n",
      "202     x360             2008         135.26         971.42      0.139239\n",
      "203     x360             2009         120.29         971.42      0.123829\n",
      "204     x360             2010         180.21         971.42      0.185512\n",
      "205     x360             2011         143.84         971.42      0.148072\n",
      "206     x360             2012          99.74         971.42      0.102674\n",
      "207     x360             2013          88.58         971.42      0.091186\n",
      "208     x360             2014          34.74         971.42      0.035762\n",
      "209     x360             2015          11.96         971.42      0.012312\n",
      "210     x360             2016           1.52         971.42      0.001565\n",
      "    platform  year_of_release  total_sales_x  total_sales_y  distribution\n",
      "134      ps3             2006          20.96         939.65      0.022306\n",
      "135      ps3             2007          73.19         939.65      0.077891\n",
      "136      ps3             2008         118.52         939.65      0.126132\n",
      "137      ps3             2009         130.93         939.65      0.139339\n",
      "138      ps3             2010         142.17         939.65      0.151301\n",
      "139      ps3             2011         165.09         939.65      0.175693\n",
      "140      ps3             2012         107.36         939.65      0.114255\n",
      "141      ps3             2013         113.25         939.65      0.120524\n",
      "142      ps3             2014          47.76         939.65      0.050827\n",
      "143      ps3             2015          16.82         939.65      0.017900\n",
      "144      ps3             2016           3.60         939.65      0.003831\n",
      "    platform  year_of_release  total_sales_x  total_sales_y  distribution\n",
      "183      wii             2006         137.15         907.51      0.151128\n",
      "184      wii             2007         152.77         907.51      0.168340\n",
      "185      wii             2008         171.32         907.51      0.188780\n",
      "186      wii             2009         223.30         907.51      0.246058\n",
      "187      wii             2010         127.95         907.51      0.140990\n",
      "188      wii             2011          59.65         907.51      0.065729\n",
      "189      wii             2012          21.71         907.51      0.023923\n",
      "190      wii             2013           8.59         907.51      0.009465\n",
      "191      wii             2014           3.75         907.51      0.004132\n",
      "192      wii             2015           1.14         907.51      0.001256\n",
      "193      wii             2016           0.18         907.51      0.000198\n",
      "   platform  year_of_release  total_sales_x  total_sales_y  distribution\n",
      "23       ds             1985           0.02         806.12      0.000025\n",
      "24       ds             2004          17.27         806.12      0.021424\n",
      "25       ds             2005         130.14         806.12      0.161440\n",
      "26       ds             2006         119.81         806.12      0.148626\n",
      "27       ds             2007         146.94         806.12      0.182281\n",
      "28       ds             2008         148.65         806.12      0.184402\n",
      "29       ds             2009         119.54         806.12      0.148291\n",
      "30       ds             2010          85.02         806.12      0.105468\n",
      "31       ds             2011          26.18         806.12      0.032477\n",
      "32       ds             2012          11.01         806.12      0.013658\n",
      "33       ds             2013           1.54         806.12      0.001910\n"
     ]
    }
   ],
   "source": [
    "dist_platf_per_year = df.groupby(by=[\"platform\",\"year_of_release\"])[\"total_sales\"].sum().reset_index()\n",
    "dist_platf_per_year = dist_platf_per_year.merge(ventas,on=\"platform\",how=\"left\")\n",
    "dist_platf_per_year[\"distribution\"] = dist_platf_per_year[\"total_sales_x\"] / dist_platf_per_year[\"total_sales_y\"]\n",
    "print(dist_platf_per_year[dist_platf_per_year[\"platform\"]==\"ps2\"])\n",
    "print(dist_platf_per_year[dist_platf_per_year[\"platform\"]==\"x360\"])\n",
    "print(dist_platf_per_year[dist_platf_per_year[\"platform\"]==\"ps3\"])\n",
    "print(dist_platf_per_year[dist_platf_per_year[\"platform\"]==\"wii\"])\n",
    "print(dist_platf_per_year[dist_platf_per_year[\"platform\"]==\"ds\"])"
   ]
  },
  {
   "cell_type": "markdown",
   "metadata": {},
   "source": [
    "Busca las plataformas que solían ser populares pero que ahora no tienen ventas. ¿Cuánto tardan generalmente las nuevas plataformas en aparecer y las antiguas en desaparecer?\n",
    "\n",
    "**Con la distribución anterior podemos observar que las consolas con mas ventas en todos los tiempos duran en promedio con ventas muy altas por un tiempo aproximado de 5 a 6 años, después sus ventas bajan de manera considerable. Esto es debido a que en promedio las desarrolladoras de consolas como Nintendo, Playstation y Microsoft en promedio sacan una consola nueva cada 6 años. Por esto es que las ventas de cada consola bajan de manera considerable.**\n",
    "\n",
    "**También algo que hay que considerar es que muchas veces el primer año de lanzamiento de una nueva consola pueden suceder 2 cosas, la gente espera uno o dos años para que los precios de las consolas bajen o porque a veces las consolas los primeros años pueden presentar error o fallas de fábrica. Por lo cual las personas suelen esperar un tiempo para asegurar que las consolas ya no presentan fallas continuamente.**"
   ]
  },
  {
   "cell_type": "markdown",
   "metadata": {},
   "source": [
    "Determina para qué período debes tomar datos. Para hacerlo mira tus respuestas a las preguntas anteriores. Los datos deberían permitirte construir un modelo para 2017.\n",
    "\n",
    "**Basados en la distribución de las consolas más populares, podemos tomar todos los juegos de todas las consolas que tengan una distribución mayor a 0.1. Que son los años en los que fueron más populares, ya sea por novedad o porque tuvieron juegos muy exitosos en esos años.**"
   ]
  },
  {
   "cell_type": "markdown",
   "metadata": {},
   "source": [
    "Trabaja solo con los datos que consideras relevantes. Ignora los datos de años anteriores.\n",
    "¿Qué plataformas son líderes en ventas? ¿Cuáles crecen y cuáles se reducen? Elige varias plataformas potencialmente rentables."
   ]
  },
  {
   "cell_type": "code",
   "execution_count": 8,
   "metadata": {
    "scrolled": true,
    "trusted": false
   },
   "outputs": [
    {
     "name": "stdout",
     "output_type": "stream",
     "text": [
      "    platform  year_of_release  total_sales_x  total_sales_y  distribution\n",
      "123      ps2             2001         166.43        1255.77      0.132532\n",
      "124      ps2             2002         205.38        1255.77      0.163549\n",
      "125      ps2             2003         184.31        1255.77      0.146771\n",
      "126      ps2             2004         211.81        1255.77      0.168669\n",
      "127      ps2             2005         182.87        1255.77      0.145624\n",
      "    platform  year_of_release  total_sales_x  total_sales_y  distribution\n",
      "202     x360             2008         135.26         971.42      0.139239\n",
      "203     x360             2009         120.29         971.42      0.123829\n",
      "204     x360             2010         180.21         971.42      0.185512\n",
      "205     x360             2011         143.84         971.42      0.148072\n",
      "206     x360             2012          99.74         971.42      0.102674\n",
      "    platform  year_of_release  total_sales_x  total_sales_y  distribution\n",
      "136      ps3             2008         118.52         939.65      0.126132\n",
      "137      ps3             2009         130.93         939.65      0.139339\n",
      "138      ps3             2010         142.17         939.65      0.151301\n",
      "139      ps3             2011         165.09         939.65      0.175693\n",
      "140      ps3             2012         107.36         939.65      0.114255\n",
      "141      ps3             2013         113.25         939.65      0.120524\n",
      "    platform  year_of_release  total_sales_x  total_sales_y  distribution\n",
      "183      wii             2006         137.15         907.51      0.151128\n",
      "184      wii             2007         152.77         907.51      0.168340\n",
      "185      wii             2008         171.32         907.51      0.188780\n",
      "186      wii             2009         223.30         907.51      0.246058\n",
      "187      wii             2010         127.95         907.51      0.140990\n",
      "   platform  year_of_release  total_sales_x  total_sales_y  distribution\n",
      "25       ds             2005         130.14         806.12      0.161440\n",
      "26       ds             2006         119.81         806.12      0.148626\n",
      "27       ds             2007         146.94         806.12      0.182281\n",
      "28       ds             2008         148.65         806.12      0.184402\n",
      "29       ds             2009         119.54         806.12      0.148291\n",
      "30       ds             2010          85.02         806.12      0.105468\n"
     ]
    }
   ],
   "source": [
    "top_platforms = [\"ps2\",\"x360\",\"ps3\",\"wii\",\"ds\"]\n",
    "for platform in top_platforms:\n",
    "    print(dist_platf_per_year[(dist_platf_per_year[\"platform\"]==platform) & (dist_platf_per_year[\"distribution\"] > 0.1)])"
   ]
  },
  {
   "cell_type": "markdown",
   "metadata": {},
   "source": [
    "**Habría que elegir los juegos que se lanzaron en los años anteriormente mostrados, de igual manera, aunque en años anteriores las consolas más recientes como ps4 y xbox one no han tenido un número alto de ventas, son las más recientes en el mercado y sería un error no considerarlas ya que son las consolas actualmente activas y con posibles futuras ventas debido a nuevos lanzamientos.**\n",
    "\n",
    "**Si bien hay una consola que no es tal cual una consola, sigue activa hasta el momento, la pc también es considerada como muchos una consola potente y que seguirá teniendo lanzamientos durante los futuros años.**"
   ]
  },
  {
   "cell_type": "code",
   "execution_count": 9,
   "metadata": {
    "trusted": false
   },
   "outputs": [
    {
     "data": {
      "text/html": [
       "<div>\n",
       "<style scoped>\n",
       "    .dataframe tbody tr th:only-of-type {\n",
       "        vertical-align: middle;\n",
       "    }\n",
       "\n",
       "    .dataframe tbody tr th {\n",
       "        vertical-align: top;\n",
       "    }\n",
       "\n",
       "    .dataframe thead th {\n",
       "        text-align: right;\n",
       "    }\n",
       "</style>\n",
       "<table border=\"1\" class=\"dataframe\">\n",
       "  <thead>\n",
       "    <tr style=\"text-align: right;\">\n",
       "      <th></th>\n",
       "      <th>index</th>\n",
       "      <th>name</th>\n",
       "      <th>platform</th>\n",
       "      <th>year_of_release</th>\n",
       "      <th>genre</th>\n",
       "      <th>na_sales</th>\n",
       "      <th>eu_sales</th>\n",
       "      <th>jp_sales</th>\n",
       "      <th>other_sales</th>\n",
       "      <th>critic_score</th>\n",
       "      <th>user_score</th>\n",
       "      <th>rating</th>\n",
       "      <th>total_sales</th>\n",
       "    </tr>\n",
       "  </thead>\n",
       "  <tbody>\n",
       "    <tr>\n",
       "      <th>0</th>\n",
       "      <td>31</td>\n",
       "      <td>call of duty: black ops 3</td>\n",
       "      <td>ps4</td>\n",
       "      <td>2015</td>\n",
       "      <td>shooter</td>\n",
       "      <td>6.03</td>\n",
       "      <td>5.86</td>\n",
       "      <td>0.36</td>\n",
       "      <td>2.38</td>\n",
       "      <td>6.896768</td>\n",
       "      <td>7.125046</td>\n",
       "      <td>NR</td>\n",
       "      <td>14.63</td>\n",
       "    </tr>\n",
       "    <tr>\n",
       "      <th>1</th>\n",
       "      <td>42</td>\n",
       "      <td>grand theft auto v</td>\n",
       "      <td>ps4</td>\n",
       "      <td>2014</td>\n",
       "      <td>action</td>\n",
       "      <td>3.96</td>\n",
       "      <td>6.31</td>\n",
       "      <td>0.38</td>\n",
       "      <td>1.97</td>\n",
       "      <td>9.700000</td>\n",
       "      <td>8.300000</td>\n",
       "      <td>M</td>\n",
       "      <td>12.62</td>\n",
       "    </tr>\n",
       "    <tr>\n",
       "      <th>2</th>\n",
       "      <td>77</td>\n",
       "      <td>fifa 16</td>\n",
       "      <td>ps4</td>\n",
       "      <td>2015</td>\n",
       "      <td>sports</td>\n",
       "      <td>1.12</td>\n",
       "      <td>6.12</td>\n",
       "      <td>0.06</td>\n",
       "      <td>1.28</td>\n",
       "      <td>8.200000</td>\n",
       "      <td>4.300000</td>\n",
       "      <td>E</td>\n",
       "      <td>8.58</td>\n",
       "    </tr>\n",
       "    <tr>\n",
       "      <th>3</th>\n",
       "      <td>85</td>\n",
       "      <td>the sims 3</td>\n",
       "      <td>pc</td>\n",
       "      <td>2009</td>\n",
       "      <td>simulation</td>\n",
       "      <td>0.99</td>\n",
       "      <td>6.42</td>\n",
       "      <td>0.00</td>\n",
       "      <td>0.60</td>\n",
       "      <td>8.600000</td>\n",
       "      <td>7.600000</td>\n",
       "      <td>T</td>\n",
       "      <td>8.01</td>\n",
       "    </tr>\n",
       "    <tr>\n",
       "      <th>4</th>\n",
       "      <td>87</td>\n",
       "      <td>star wars battlefront (2015)</td>\n",
       "      <td>ps4</td>\n",
       "      <td>2015</td>\n",
       "      <td>shooter</td>\n",
       "      <td>2.99</td>\n",
       "      <td>3.49</td>\n",
       "      <td>0.22</td>\n",
       "      <td>1.28</td>\n",
       "      <td>6.896768</td>\n",
       "      <td>7.125046</td>\n",
       "      <td>NR</td>\n",
       "      <td>7.98</td>\n",
       "    </tr>\n",
       "    <tr>\n",
       "      <th>...</th>\n",
       "      <td>...</td>\n",
       "      <td>...</td>\n",
       "      <td>...</td>\n",
       "      <td>...</td>\n",
       "      <td>...</td>\n",
       "      <td>...</td>\n",
       "      <td>...</td>\n",
       "      <td>...</td>\n",
       "      <td>...</td>\n",
       "      <td>...</td>\n",
       "      <td>...</td>\n",
       "      <td>...</td>\n",
       "      <td>...</td>\n",
       "    </tr>\n",
       "    <tr>\n",
       "      <th>7785</th>\n",
       "      <td>16656</td>\n",
       "      <td>imagine figure skater (jp sales)</td>\n",
       "      <td>ds</td>\n",
       "      <td>2007</td>\n",
       "      <td>sports</td>\n",
       "      <td>0.00</td>\n",
       "      <td>0.00</td>\n",
       "      <td>0.01</td>\n",
       "      <td>0.00</td>\n",
       "      <td>6.896768</td>\n",
       "      <td>7.125046</td>\n",
       "      <td>NR</td>\n",
       "      <td>0.01</td>\n",
       "    </tr>\n",
       "    <tr>\n",
       "      <th>7786</th>\n",
       "      <td>16675</td>\n",
       "      <td>original frisbee disc sports: ultimate &amp; golf</td>\n",
       "      <td>ds</td>\n",
       "      <td>2007</td>\n",
       "      <td>action</td>\n",
       "      <td>0.01</td>\n",
       "      <td>0.00</td>\n",
       "      <td>0.00</td>\n",
       "      <td>0.00</td>\n",
       "      <td>6.896768</td>\n",
       "      <td>7.125046</td>\n",
       "      <td>NR</td>\n",
       "      <td>0.01</td>\n",
       "    </tr>\n",
       "    <tr>\n",
       "      <th>7787</th>\n",
       "      <td>16698</td>\n",
       "      <td>mega brain boost</td>\n",
       "      <td>ds</td>\n",
       "      <td>2008</td>\n",
       "      <td>puzzle</td>\n",
       "      <td>0.01</td>\n",
       "      <td>0.00</td>\n",
       "      <td>0.00</td>\n",
       "      <td>0.00</td>\n",
       "      <td>4.800000</td>\n",
       "      <td>7.125046</td>\n",
       "      <td>E</td>\n",
       "      <td>0.01</td>\n",
       "    </tr>\n",
       "    <tr>\n",
       "      <th>7788</th>\n",
       "      <td>16700</td>\n",
       "      <td>mezase!! tsuri master ds</td>\n",
       "      <td>ds</td>\n",
       "      <td>2009</td>\n",
       "      <td>sports</td>\n",
       "      <td>0.00</td>\n",
       "      <td>0.00</td>\n",
       "      <td>0.01</td>\n",
       "      <td>0.00</td>\n",
       "      <td>6.896768</td>\n",
       "      <td>7.125046</td>\n",
       "      <td>NR</td>\n",
       "      <td>0.01</td>\n",
       "    </tr>\n",
       "    <tr>\n",
       "      <th>7789</th>\n",
       "      <td>16704</td>\n",
       "      <td>plushees</td>\n",
       "      <td>ds</td>\n",
       "      <td>2008</td>\n",
       "      <td>simulation</td>\n",
       "      <td>0.01</td>\n",
       "      <td>0.00</td>\n",
       "      <td>0.00</td>\n",
       "      <td>0.00</td>\n",
       "      <td>6.896768</td>\n",
       "      <td>7.125046</td>\n",
       "      <td>E</td>\n",
       "      <td>0.01</td>\n",
       "    </tr>\n",
       "  </tbody>\n",
       "</table>\n",
       "<p>7790 rows × 13 columns</p>\n",
       "</div>"
      ],
      "text/plain": [
       "      index                                           name platform  \\\n",
       "0        31                      call of duty: black ops 3      ps4   \n",
       "1        42                             grand theft auto v      ps4   \n",
       "2        77                                        fifa 16      ps4   \n",
       "3        85                                     the sims 3       pc   \n",
       "4        87                   star wars battlefront (2015)      ps4   \n",
       "...     ...                                            ...      ...   \n",
       "7785  16656               imagine figure skater (jp sales)       ds   \n",
       "7786  16675  original frisbee disc sports: ultimate & golf       ds   \n",
       "7787  16698                               mega brain boost       ds   \n",
       "7788  16700                       mezase!! tsuri master ds       ds   \n",
       "7789  16704                                       plushees       ds   \n",
       "\n",
       "      year_of_release       genre  na_sales  eu_sales  jp_sales  other_sales  \\\n",
       "0                2015     shooter      6.03      5.86      0.36         2.38   \n",
       "1                2014      action      3.96      6.31      0.38         1.97   \n",
       "2                2015      sports      1.12      6.12      0.06         1.28   \n",
       "3                2009  simulation      0.99      6.42      0.00         0.60   \n",
       "4                2015     shooter      2.99      3.49      0.22         1.28   \n",
       "...               ...         ...       ...       ...       ...          ...   \n",
       "7785             2007      sports      0.00      0.00      0.01         0.00   \n",
       "7786             2007      action      0.01      0.00      0.00         0.00   \n",
       "7787             2008      puzzle      0.01      0.00      0.00         0.00   \n",
       "7788             2009      sports      0.00      0.00      0.01         0.00   \n",
       "7789             2008  simulation      0.01      0.00      0.00         0.00   \n",
       "\n",
       "      critic_score  user_score rating  total_sales  \n",
       "0         6.896768    7.125046     NR        14.63  \n",
       "1         9.700000    8.300000      M        12.62  \n",
       "2         8.200000    4.300000      E         8.58  \n",
       "3         8.600000    7.600000      T         8.01  \n",
       "4         6.896768    7.125046     NR         7.98  \n",
       "...            ...         ...    ...          ...  \n",
       "7785      6.896768    7.125046     NR         0.01  \n",
       "7786      6.896768    7.125046     NR         0.01  \n",
       "7787      4.800000    7.125046      E         0.01  \n",
       "7788      6.896768    7.125046     NR         0.01  \n",
       "7789      6.896768    7.125046      E         0.01  \n",
       "\n",
       "[7790 rows x 13 columns]"
      ]
     },
     "metadata": {},
     "output_type": "display_data"
    }
   ],
   "source": [
    "df_1 = df[df[\"platform\"].isin([\"ps4\",\"xone\",\"pc\"])]\n",
    "df_2 = df[(df[\"platform\"]==\"ps2\") & (df[\"year_of_release\"]>=2001) & (df[\"year_of_release\"]<=2005)]\n",
    "df_3 = df[(df[\"platform\"]==\"x360\") & (df[\"year_of_release\"]>=2008) & (df[\"year_of_release\"]<=2012)]\n",
    "df_4 = df[(df[\"platform\"]==\"ps3\") & (df[\"year_of_release\"]>=2008) & (df[\"year_of_release\"]<=2013)]\n",
    "df_5 = df[(df[\"platform\"]==\"wii\") & (df[\"year_of_release\"]>=2006) & (df[\"year_of_release\"]<=2010)]\n",
    "df_6 = df[(df[\"platform\"]==\"ds\") & (df[\"year_of_release\"]>=2005) & (df[\"year_of_release\"]<=2010)]\n",
    "df = pd.concat([df_1,df_2,df_3,df_4,df_5,df_6]).reset_index()\n",
    "display(df)"
   ]
  },
  {
   "cell_type": "markdown",
   "metadata": {},
   "source": [
    "Crea un diagrama de caja para las ventas globales de todos los juegos, desglosados por plataforma. ¿Son significativas las diferencias en las ventas? ¿Qué sucede con las ventas promedio en varias plataformas? Describe tus hallazgos."
   ]
  },
  {
   "cell_type": "code",
   "execution_count": 10,
   "metadata": {
    "trusted": false
   },
   "outputs": [
    {
     "data": {
      "image/png": "[encoded data removed]",
      "text/plain": [
       "<Figure size 1200x400 with 8 Axes>"
      ]
     },
     "metadata": {},
     "output_type": "display_data"
    }
   ],
   "source": [
    "fig, axs = plt.subplots(1, 8, figsize=(12, 4))\n",
    "axs[0].boxplot(df['total_sales'][df[\"platform\"]==\"ps2\"])\n",
    "axs[0].set_title('Playstation 2')\n",
    "axs[1].boxplot(df['total_sales'][df[\"platform\"]==\"x360\"])\n",
    "axs[1].set_title('Xbox 360')\n",
    "axs[2].boxplot(df['total_sales'][df[\"platform\"]==\"ps3\"])\n",
    "axs[2].set_title('Playstation 3')\n",
    "axs[3].boxplot(df['total_sales'][df[\"platform\"]==\"wii\"])\n",
    "axs[3].set_title('Nintendo Wii')\n",
    "axs[4].boxplot(df['total_sales'][df[\"platform\"]==\"ds\"])\n",
    "axs[4].set_title('Nintendo DS')\n",
    "axs[5].boxplot(df['total_sales'][df[\"platform\"]==\"pc\"])\n",
    "axs[5].set_title('PC')\n",
    "axs[6].boxplot(df['total_sales'][df[\"platform\"]==\"ps4\"])\n",
    "axs[6].set_title('Playstation 4')\n",
    "axs[7].boxplot(df['total_sales'][df[\"platform\"]==\"xone\"])\n",
    "axs[7].set_title('Xbox One')\n",
    "plt.tight_layout()\n",
    "plt.show()"
   ]
  },
  {
   "cell_type": "markdown",
   "metadata": {},
   "source": [
    "**En base a los diagramas de cajas arriba mostrados, podemos observar que consolas como Playstation 2, Xbox 360 y Playstarion 3, tienen valores simiares, inclsuive en ventas totales de un juego con alredor de 20M dlls. Podemos observar también una venta de 80M dlls. También podemos concluir que en promedio es normal que no todos los videojuegos tengan un gran volumen de ventas y en promedio no todos los juegos venden mas de 1M o 2M de dlls.**"
   ]
  },
  {
   "cell_type": "markdown",
   "metadata": {},
   "source": [
    "Mira cómo las reseñas de usuarios y profesionales afectan las ventas de una plataforma popular (tu elección). Crea un gráfico de dispersión y calcula la correlación entre las reseñas y las ventas. Saca conclusiones."
   ]
  },
  {
   "cell_type": "code",
   "execution_count": 11,
   "metadata": {
    "trusted": false
   },
   "outputs": [
    {
     "data": {
      "image/png": "[encoded data removed]",
      "text/plain": [
       "<Figure size 640x480 with 1 Axes>"
      ]
     },
     "metadata": {},
     "output_type": "display_data"
    },
    {
     "name": "stdout",
     "output_type": "stream",
     "text": [
      "0.2684079000060354\n"
     ]
    }
   ],
   "source": [
    "df_xbox360 = df[df[\"platform\"]==\"x360\"][[\"name\",\"platform\",\"critic_score\",\"user_score\",\"total_sales\"]]\n",
    "df_xbox360[\"avg_score\"] = (df_xbox360[\"critic_score\"] + df_xbox360[\"user_score\"]) / 2\n",
    " \n",
    "df_xbox360.plot(x=\"avg_score\",\n",
    "                y=\"total_sales\",\n",
    "                xlabel=\"Puntaje promedio entre críticos y usuarios\",\n",
    "                ylabel=\"Ventas mundiales (millones dlls)\",\n",
    "                kind=\"scatter\",\n",
    "                title=\"Gráfica de dispersión entre puntaje y ventas totales\",\n",
    "                xlim=[2,10],\n",
    "                ylim=[0,15],)\n",
    "plt.show()\n",
    "\n",
    "print(df_xbox360[\"avg_score\"].corr(df_xbox360[\"total_sales\"]))"
   ]
  },
  {
   "cell_type": "markdown",
   "metadata": {},
   "source": [
    "**Elegí la consola xbox 360 y tanto en la gráfica como en el método \"corr\" podemos ver una muy débil correlación entre la puntuación promedio de los críticos y los usuarios y las ventas totales.**"
   ]
  },
  {
   "cell_type": "markdown",
   "metadata": {},
   "source": [
    "Teniendo en cuenta tus conclusiones compara las ventas de los mismos juegos en otras plataformas."
   ]
  },
  {
   "cell_type": "code",
   "execution_count": 12,
   "metadata": {
    "trusted": false
   },
   "outputs": [
    {
     "name": "stdout",
     "output_type": "stream",
     "text": [
      "Top 10 de videojuegos multiplataforma\n",
      "                               name  total_sales\n",
      "52          call of duty: black ops        29.20\n",
      "56   call of duty: modern warfare 3        28.06\n",
      "53       call of duty: black ops ii        27.47\n",
      "55   call of duty: modern warfare 2        24.08\n",
      "135             grand theft auto iv        21.50\n",
      "136              grand theft auto v        21.05\n",
      "137   grand theft auto: san andreas        20.92\n",
      "57       call of duty: world at war        15.59\n",
      "341     the elder scrolls v: skyrim        15.19\n",
      "29                    battlefield 3        14.49\n"
     ]
    }
   ],
   "source": [
    "multiplatform_games = df.groupby(by=\"name\")[\"platform\"].nunique().reset_index()\n",
    "multiplatform_games = multiplatform_games[multiplatform_games[\"platform\"]>=3]\n",
    "multiplatform_games = multiplatform_games[\"name\"].tolist()\n",
    "df_multi_games = df[(df[\"name\"].isin(multiplatform_games)) & (df[\"platform\"].isin(top_platforms))]\n",
    "df_multi_games = df_multi_games.groupby(by=\"name\")[\"total_sales\"].sum().reset_index()\n",
    "print(\"Top 10 de videojuegos multiplataforma\")\n",
    "print(df_multi_games.sort_values(by=\"total_sales\",ascending=False).head(10))"
   ]
  },
  {
   "cell_type": "markdown",
   "metadata": {},
   "source": [
    "**Elegí todos los títulos que al menos se hayan lanzado en 3 o más consolas, al parecer los Call Of Duty, GTA y algunos otros shooters son los juegos más populares de los últimos tiempos.**"
   ]
  },
  {
   "cell_type": "markdown",
   "metadata": {},
   "source": [
    "Echa un vistazo a la distribución general de los juegos por género. ¿Qué se puede decir de los géneros más rentables? ¿Puedes generalizar acerca de los géneros con ventas altas y bajas?"
   ]
  },
  {
   "cell_type": "code",
   "execution_count": 13,
   "metadata": {
    "trusted": false
   },
   "outputs": [
    {
     "name": "stdout",
     "output_type": "stream",
     "text": [
      "genre\n",
      "action          1007.79\n",
      "sports           788.69\n",
      "shooter          672.40\n",
      "misc             490.26\n",
      "role-playing     396.72\n",
      "racing           351.12\n",
      "simulation       263.88\n",
      "platform         252.83\n",
      "fighting         180.47\n",
      "adventure        115.63\n",
      "puzzle            97.82\n",
      "strategy          85.42\n",
      "Name: total_sales, dtype: float64\n"
     ]
    }
   ],
   "source": [
    "df_by_genre = df.groupby(\"genre\")[\"total_sales\"].sum().sort_values(ascending=False)\n",
    "print(df_by_genre)"
   ]
  },
  {
   "cell_type": "markdown",
   "metadata": {},
   "source": [
    "**Podemos observar que los juegps de acción, deportes y shooter son los 3 más populares entre los usuarios. Si bien en el último top aparecen en su mayoría videojuegos shooters, esto se debe a que el último top está filtrado por juegos multiplataforma. Podemos saber con una simple búsqueda que los juegos de acción más populares son juegos como Grand Theft Auto V, San Andreas y Vice City**"
   ]
  },
  {
   "cell_type": "markdown",
   "metadata": {},
   "source": [
    "# Paso 4. Crea un perfil de usuario para cada región."
   ]
  },
  {
   "cell_type": "markdown",
   "metadata": {},
   "source": [
    "Para cada región (NA, UE, JP) determina:\n",
    "\n",
    "Las cinco plataformas principales. Describe las variaciones en sus cuotas de mercado de una región a otra."
   ]
  },
  {
   "cell_type": "code",
   "execution_count": 14,
   "metadata": {
    "trusted": false
   },
   "outputs": [
    {
     "name": "stdout",
     "output_type": "stream",
     "text": [
      "Top 5 plataformas en Norte América: \n",
      "platform\n",
      "ps2     452.87\n",
      "wii     448.34\n",
      "x360    415.76\n",
      "ds      355.21\n",
      "ps3     330.44\n",
      "Name: na_sales, dtype: float64 \n",
      "\n",
      "Top 5 plataformas en Europa: \n",
      "platform\n",
      "ps2     282.37\n",
      "ps3     271.27\n",
      "wii     232.61\n",
      "x360    194.80\n",
      "ds      175.72\n",
      "Name: eu_sales, dtype: float64 \n",
      "\n",
      "Top 5 plataformas en Japón: \n",
      "platform\n",
      "ds     163.86\n",
      "ps2     94.40\n",
      "ps3     63.67\n",
      "wii     60.36\n",
      "ps4     15.96\n",
      "Name: jp_sales, dtype: float64\n"
     ]
    }
   ],
   "source": [
    "df_na = df.groupby(\"platform\")[\"na_sales\"].sum().sort_values(ascending=False)\n",
    "print(f'Top 5 plataformas en Norte América: \\n{df_na.head()} \\n')\n",
    "\n",
    "df_eu = df.groupby(\"platform\")[\"eu_sales\"].sum().sort_values(ascending=False)\n",
    "print(f'Top 5 plataformas en Europa: \\n{df_eu.head()} \\n')\n",
    "\n",
    "df_jp = df.groupby(\"platform\")[\"jp_sales\"].sum().sort_values(ascending=False)\n",
    "print(f'Top 5 plataformas en Japón: \\n{df_jp.head()}')"
   ]
  },
  {
   "cell_type": "markdown",
   "metadata": {},
   "source": [
    "**Si bien en las 3 regiones pareciera haber un comportamiento muy similar entre las consolas más populares, podemos ver que en Japón no consumen mucho el contenido de Microsoft, ya que ni la xbox, xbox 360 o xbox one aparecen en el top de las 5 más populares, caso contrario a NA y EU que si bien no es la más popular, aparece en el top 5 en ambas regiones.**"
   ]
  },
  {
   "cell_type": "markdown",
   "metadata": {},
   "source": [
    "Los cinco géneros principales. Explica la diferencia."
   ]
  },
  {
   "cell_type": "code",
   "execution_count": 15,
   "metadata": {
    "trusted": false
   },
   "outputs": [
    {
     "name": "stdout",
     "output_type": "stream",
     "text": [
      "Top 5 géneros en Norte América: \n",
      "genre\n",
      "action          486.91\n",
      "sports          400.12\n",
      "shooter         348.87\n",
      "misc            251.26\n",
      "role-playing    162.36\n",
      "Name: na_sales, dtype: float64 \n",
      "\n",
      "Top 5 géneros en Europa: \n",
      "genre\n",
      "action     329.75\n",
      "sports     257.81\n",
      "shooter    229.67\n",
      "misc       137.93\n",
      "racing     128.56\n",
      "Name: eu_sales, dtype: float64 \n",
      "\n",
      "Top 5 géneros en Japón: \n",
      "genre\n",
      "role-playing    98.30\n",
      "action          65.81\n",
      "misc            55.68\n",
      "sports          44.64\n",
      "platform        26.32\n",
      "Name: jp_sales, dtype: float64\n"
     ]
    }
   ],
   "source": [
    "df_genre_na = df.groupby(\"genre\")[\"na_sales\"].sum().sort_values(ascending=False)\n",
    "print(f'Top 5 géneros en Norte América: \\n{df_genre_na.head()} \\n')\n",
    "\n",
    "df_genre_eu = df.groupby(\"genre\")[\"eu_sales\"].sum().sort_values(ascending=False)\n",
    "print(f'Top 5 géneros en Europa: \\n{df_genre_eu.head()} \\n')\n",
    "\n",
    "df_genre_jp = df.groupby(\"genre\")[\"jp_sales\"].sum().sort_values(ascending=False)\n",
    "print(f'Top 5 géneros en Japón: \\n{df_genre_jp.head()}')"
   ]
  },
  {
   "cell_type": "markdown",
   "metadata": {},
   "source": [
    "**Podemos ver que los géneros que más son rentables en NA y EU son los mismos que dominan el top general, como juegos de acción, deportes y shooters. Mientras que en Japón los géneros más populares son de juego de rol, acción y misc, que son juegos como Fallout, Minecraft, Sims, etc**"
   ]
  },
  {
   "cell_type": "markdown",
   "metadata": {},
   "source": [
    "Si las clasificaciones de ESRB afectan a las ventas en regiones individuales."
   ]
  },
  {
   "cell_type": "code",
   "execution_count": 16,
   "metadata": {
    "scrolled": true,
    "trusted": false
   },
   "outputs": [
    {
     "name": "stdout",
     "output_type": "stream",
     "text": [
      "Top 3 clasificaciones de juegos en Norte América: \n",
      "rating\n",
      "E    829.80\n",
      "M    551.05\n",
      "T    446.68\n",
      "Name: na_sales, dtype: float64 \n",
      "\n",
      "Top 3 clasificaciones de juegos en Europa: \n",
      "rating\n",
      "E    493.89\n",
      "M    390.16\n",
      "T    285.97\n",
      "Name: eu_sales, dtype: float64 \n",
      "\n",
      "Top 3 clasificaciones de juegos en Japón: \n",
      "rating\n",
      "NR    146.23\n",
      "E     118.28\n",
      "T      71.52\n",
      "Name: jp_sales, dtype: float64\n"
     ]
    }
   ],
   "source": [
    "df_esrb_na = df.groupby(\"rating\")[\"na_sales\"].sum().sort_values(ascending=False)\n",
    "print(f'Top 3 clasificaciones de juegos en Norte América: \\n{df_esrb_na.head(3)} \\n')\n",
    "\n",
    "df_esrb_eu = df.groupby(\"rating\")[\"eu_sales\"].sum().sort_values(ascending=False)\n",
    "print(f'Top 3 clasificaciones de juegos en Europa: \\n{df_esrb_eu.head(3)} \\n')\n",
    "\n",
    "df_esrb_jp = df.groupby(\"rating\")[\"jp_sales\"].sum().sort_values(ascending=False)\n",
    "print(f'Top 3 clasificaciones de juegos en Japón: \\n{df_esrb_jp.head(3)}')"
   ]
  },
  {
   "cell_type": "markdown",
   "metadata": {},
   "source": [
    "**Podemos observar que los patrones en NA y EU se repiten ya que los 3 clasificaciones más consumidas en estas regiones son E (Everybody), M (Mature) y T (Teen). Mientras que en Japón dominan los juegos no clasificacos y para niños y adolescentes.**"
   ]
  },
  {
   "cell_type": "markdown",
   "metadata": {},
   "source": [
    "# Paso 5. Prueba las siguientes hipótesis."
   ]
  },
  {
   "cell_type": "markdown",
   "metadata": {},
   "source": [
    "Las calificaciones promedio de los usuarios para las plataformas Xbox One y PC son las mismas.\n",
    "\n",
    "Explica: Cómo formulaste las hipótesis nula y alternativa y qué criterio utilizaste para probar las hipótesis y por qué."
   ]
  },
  {
   "cell_type": "code",
   "execution_count": 17,
   "metadata": {
    "trusted": false
   },
   "outputs": [
    {
     "name": "stdout",
     "output_type": "stream",
     "text": [
      "Se rechaza la hipótesis nula\n"
     ]
    }
   ],
   "source": [
    "# Primero voy a crear 2 datafrmes con solo los nombres, plataformas a analizar y sus puntuaciones\n",
    "# según los usuarios. \n",
    "    \n",
    "df_score_xone = df[df[\"platform\"]==\"xone\"][\"user_score\"]\n",
    "df_score_pc = df[df[\"platform\"]==\"pc\"][\"user_score\"]\n",
    "\n",
    "# La hipótesis nula es que las calificaciones promedios de los usuarios son iguales entre Xbox One \n",
    "# y PC. La hipótesis alternativa es que son distintas. Para lo cual una prubea de dos colas puede \n",
    "# ser la apropiada para éste estudio. Para saber si el parámetro equal_var será False o True usaré \n",
    "# el método levene\n",
    "\n",
    "beta = 0.05\n",
    "w_stats, p_value = levene(df_score_xone,df_score_pc)\n",
    "if p_value < beta:\n",
    "    variable = False\n",
    "else:\n",
    "    variable = True\n",
    "\n",
    "# Ahora utilizaré el método ttest_ind para probar si mi hipótesis de 2 las clasificaciones entre \n",
    "# Xbox One y PC son iguales. \n",
    "\n",
    "alpha = 0.05\n",
    "results = st.ttest_ind(df_score_xone,df_score_pc,equal_var=variable)\n",
    "\n",
    "if results.pvalue < alpha:\n",
    "    print(\"Se rechaza la hipótesis nula\")\n",
    "else:\n",
    "    print(\"No podemor rechazar la hipótesis nula\")"
   ]
  },
  {
   "cell_type": "markdown",
   "metadata": {},
   "source": [
    "**Con el estudio estadístico anterior y con el resultado de la hipóteis nula rechazada, podemos concluir que las calificaciones promedio de los usuarios entre Xbox One y PC no son iguales y son distintas unas de otras.**"
   ]
  },
  {
   "cell_type": "markdown",
   "metadata": {},
   "source": [
    "Las calificaciones promedio de los usuarios para los géneros de Acción y Deportes son diferentes.\n",
    "\n",
    "Explica: Cómo formulaste las hipótesis nula y alternativa y qué criterio utilizaste para probar las hipótesis y por qué."
   ]
  },
  {
   "cell_type": "code",
   "execution_count": 18,
   "metadata": {
    "scrolled": true,
    "trusted": false
   },
   "outputs": [
    {
     "name": "stdout",
     "output_type": "stream",
     "text": [
      "Se rechaza la hipótesis nula\n"
     ]
    }
   ],
   "source": [
    "# Primero voy a crear 2 datafrmes con solo los géneros de acción y deportes según los usuarios. \n",
    "    \n",
    "df_score_action = df[df[\"genre\"]==\"action\"][\"user_score\"]\n",
    "df_score_sports = df[df[\"genre\"]==\"sports\"][\"user_score\"]\n",
    "\n",
    "# La hipótesis nula es que las calificaciones promedios de los géneros acción y deportes son iguales. \n",
    "# La hipótesis alternativa es que son distintas. Para lo cual una prubea de dos colas puede ser la \n",
    "# apropiada para éste estudio. Para saber si el parámetro equal_var será False o True usaré el método \n",
    "# levene\n",
    "\n",
    "beta = 0.05\n",
    "w_stats, p_value = levene(df_score_action,df_score_sports)\n",
    "if p_value < beta:\n",
    "    variable = False\n",
    "else:\n",
    "    variable = True\n",
    "\n",
    "# Ahora utilizaré el método ttest_ind para probar si mi hipótesis de 2 las clasificaciones entre \n",
    "# los géneros action y sports son iguales. \n",
    "\n",
    "alpha = 0.05\n",
    "results = st.ttest_ind(df_score_action,df_score_sports,equal_var=variable)\n",
    "\n",
    "if results.pvalue < alpha:\n",
    "    print(\"Se rechaza la hipótesis nula\")\n",
    "else:\n",
    "    print(\"No podemor rechazar la hipótesis nula\")"
   ]
  },
  {
   "cell_type": "markdown",
   "metadata": {},
   "source": [
    "**Con el estudio estadístico anterior y con el resultado de la hipóteis nula rechazada, podemos concluir que las calificaciones promedio de los usuarios entre los géneros de acción y deportes si son distintas unas de otras.**"
   ]
  },
  {
   "cell_type": "markdown",
   "metadata": {},
   "source": [
    "# Conclusión general."
   ]
  },
  {
   "cell_type": "markdown",
   "metadata": {},
   "source": [
    "**Como conclusión general y con el fin de una mejor planeción para las ventas del próximo año 2017, podemos establecer que las mejores consolas para seguir promocionando el siguiente año son: PS2, PS3, PS4, Xbox 360, Xbox One, Nintendo Wii, Nintendo DS y PC, también obtuvimos de los datos que los juegos con mayor número de ventas son las sagas de Call Of Duty y Grand Theft Auto, sin olvidar que también los juegos de deportes son populares.**"
   ]
  }
 ],
 "metadata": {
  "ExecuteTimeLog": [
   {
    "duration": 2798,
    "start_time": "2025-04-15T02:43:34.900Z"
   },
   {
    "duration": 43,
    "start_time": "2025-04-15T02:43:49.168Z"
   },
   {
    "duration": 5,
    "start_time": "2025-04-15T02:57:53.386Z"
   },
   {
    "duration": 238,
    "start_time": "2025-04-15T02:58:16.702Z"
   },
   {
    "duration": 15,
    "start_time": "2025-04-15T02:58:47.073Z"
   },
   {
    "duration": 15,
    "start_time": "2025-04-15T02:59:03.457Z"
   },
   {
    "duration": 4,
    "start_time": "2025-04-15T02:59:22.299Z"
   },
   {
    "duration": 4,
    "start_time": "2025-04-15T02:59:38.733Z"
   },
   {
    "duration": 902,
    "start_time": "2025-04-15T02:59:51.469Z"
   },
   {
    "duration": 130,
    "start_time": "2025-04-15T02:59:52.373Z"
   },
   {
    "duration": 3,
    "start_time": "2025-04-15T03:01:32.063Z"
   },
   {
    "duration": 167,
    "start_time": "2025-04-15T03:03:13.982Z"
   },
   {
    "duration": 2620,
    "start_time": "2025-04-18T18:47:17.727Z"
   },
   {
    "duration": 15,
    "start_time": "2025-04-18T18:47:20.350Z"
   },
   {
    "duration": 75,
    "start_time": "2025-04-18T18:47:20.366Z"
   },
   {
    "duration": 27,
    "start_time": "2025-04-18T18:47:31.387Z"
   },
   {
    "duration": 49,
    "start_time": "2025-04-18T19:00:21.822Z"
   },
   {
    "duration": 6,
    "start_time": "2025-04-18T19:06:55.212Z"
   },
   {
    "duration": 7,
    "start_time": "2025-04-18T19:09:07.850Z"
   },
   {
    "duration": 235,
    "start_time": "2025-04-18T19:31:40.326Z"
   },
   {
    "duration": 8,
    "start_time": "2025-04-18T19:32:16.761Z"
   },
   {
    "duration": 8,
    "start_time": "2025-04-18T19:32:30.544Z"
   },
   {
    "duration": 6,
    "start_time": "2025-04-18T19:32:42.027Z"
   },
   {
    "duration": 22,
    "start_time": "2025-04-18T19:35:30.429Z"
   },
   {
    "duration": 6,
    "start_time": "2025-04-18T19:58:49.718Z"
   },
   {
    "duration": 6,
    "start_time": "2025-04-18T19:59:17.760Z"
   },
   {
    "duration": 15,
    "start_time": "2025-04-18T20:05:36.291Z"
   },
   {
    "duration": 838,
    "start_time": "2025-04-18T20:52:59.487Z"
   },
   {
    "duration": 16,
    "start_time": "2025-04-18T20:53:00.327Z"
   },
   {
    "duration": 81,
    "start_time": "2025-04-18T20:53:00.344Z"
   },
   {
    "duration": 22,
    "start_time": "2025-04-18T20:53:00.427Z"
   },
   {
    "duration": 68,
    "start_time": "2025-04-18T20:53:00.451Z"
   },
   {
    "duration": 5,
    "start_time": "2025-04-18T20:53:00.521Z"
   },
   {
    "duration": 20,
    "start_time": "2025-04-18T20:53:00.528Z"
   },
   {
    "duration": 14,
    "start_time": "2025-04-18T20:53:00.550Z"
   },
   {
    "duration": 35,
    "start_time": "2025-04-18T20:53:00.588Z"
   },
   {
    "duration": 29,
    "start_time": "2025-04-18T20:53:17.404Z"
   },
   {
    "duration": 161,
    "start_time": "2025-04-19T01:04:22.530Z"
   },
   {
    "duration": 2675,
    "start_time": "2025-04-19T01:04:29.830Z"
   },
   {
    "duration": 16,
    "start_time": "2025-04-19T01:04:32.508Z"
   },
   {
    "duration": 70,
    "start_time": "2025-04-19T01:04:32.525Z"
   },
   {
    "duration": 25,
    "start_time": "2025-04-19T01:04:32.597Z"
   },
   {
    "duration": 48,
    "start_time": "2025-04-19T01:04:32.623Z"
   },
   {
    "duration": 5,
    "start_time": "2025-04-19T01:04:32.673Z"
   },
   {
    "duration": 40,
    "start_time": "2025-04-19T01:04:32.680Z"
   },
   {
    "duration": 14,
    "start_time": "2025-04-19T01:04:32.722Z"
   },
   {
    "duration": 32,
    "start_time": "2025-04-19T01:04:32.737Z"
   },
   {
    "duration": 630,
    "start_time": "2025-04-19T01:04:32.771Z"
   },
   {
    "duration": 603,
    "start_time": "2025-04-19T01:06:03.533Z"
   },
   {
    "duration": 128,
    "start_time": "2025-04-19T01:31:58.351Z"
   },
   {
    "duration": 17,
    "start_time": "2025-04-19T02:07:39.467Z"
   },
   {
    "duration": 16,
    "start_time": "2025-04-19T02:07:59.496Z"
   },
   {
    "duration": 6,
    "start_time": "2025-04-19T02:15:51.981Z"
   },
   {
    "duration": 3,
    "start_time": "2025-04-19T02:18:59.278Z"
   },
   {
    "duration": 13,
    "start_time": "2025-04-19T02:19:04.363Z"
   },
   {
    "duration": 2637,
    "start_time": "2025-04-19T13:33:53.577Z"
   },
   {
    "duration": 18,
    "start_time": "2025-04-19T13:33:56.216Z"
   },
   {
    "duration": 85,
    "start_time": "2025-04-19T13:33:56.236Z"
   },
   {
    "duration": 22,
    "start_time": "2025-04-19T13:33:56.323Z"
   },
   {
    "duration": 66,
    "start_time": "2025-04-19T13:33:56.349Z"
   },
   {
    "duration": 6,
    "start_time": "2025-04-19T13:33:56.417Z"
   },
   {
    "duration": 26,
    "start_time": "2025-04-19T13:33:56.424Z"
   },
   {
    "duration": 16,
    "start_time": "2025-04-19T13:33:56.453Z"
   },
   {
    "duration": 64,
    "start_time": "2025-04-19T13:33:56.471Z"
   },
   {
    "duration": 576,
    "start_time": "2025-04-19T13:33:56.537Z"
   },
   {
    "duration": 139,
    "start_time": "2025-04-19T13:33:57.115Z"
   },
   {
    "duration": 16,
    "start_time": "2025-04-19T13:33:57.256Z"
   },
   {
    "duration": 7,
    "start_time": "2025-04-19T13:33:57.276Z"
   },
   {
    "duration": 155,
    "start_time": "2025-04-19T13:40:08.789Z"
   },
   {
    "duration": 11,
    "start_time": "2025-04-19T13:57:27.172Z"
   },
   {
    "duration": 10,
    "start_time": "2025-04-19T13:58:35.750Z"
   },
   {
    "duration": 11,
    "start_time": "2025-04-19T14:00:05.976Z"
   },
   {
    "duration": 10,
    "start_time": "2025-04-19T14:00:42.029Z"
   },
   {
    "duration": 9,
    "start_time": "2025-04-19T14:11:17.708Z"
   },
   {
    "duration": 12,
    "start_time": "2025-04-19T14:11:43.088Z"
   },
   {
    "duration": 11,
    "start_time": "2025-04-19T14:42:13.629Z"
   },
   {
    "duration": 9,
    "start_time": "2025-04-19T14:44:22.967Z"
   },
   {
    "duration": 9,
    "start_time": "2025-04-19T14:44:39.859Z"
   },
   {
    "duration": 2668,
    "start_time": "2025-04-19T19:54:05.053Z"
   },
   {
    "duration": 16,
    "start_time": "2025-04-19T19:54:07.723Z"
   },
   {
    "duration": 73,
    "start_time": "2025-04-19T19:54:07.741Z"
   },
   {
    "duration": 33,
    "start_time": "2025-04-19T19:54:07.816Z"
   },
   {
    "duration": 49,
    "start_time": "2025-04-19T19:54:07.851Z"
   },
   {
    "duration": 5,
    "start_time": "2025-04-19T19:54:07.902Z"
   },
   {
    "duration": 41,
    "start_time": "2025-04-19T19:54:07.909Z"
   },
   {
    "duration": 15,
    "start_time": "2025-04-19T19:54:07.951Z"
   },
   {
    "duration": 32,
    "start_time": "2025-04-19T19:54:07.968Z"
   },
   {
    "duration": 633,
    "start_time": "2025-04-19T19:54:08.003Z"
   },
   {
    "duration": 142,
    "start_time": "2025-04-19T19:54:08.638Z"
   },
   {
    "duration": 17,
    "start_time": "2025-04-19T19:54:08.782Z"
   },
   {
    "duration": 7,
    "start_time": "2025-04-19T19:54:08.800Z"
   },
   {
    "duration": 29,
    "start_time": "2025-04-19T19:54:08.809Z"
   },
   {
    "duration": 8,
    "start_time": "2025-04-19T19:54:08.840Z"
   },
   {
    "duration": 8,
    "start_time": "2025-04-19T19:54:08.851Z"
   },
   {
    "duration": 9,
    "start_time": "2025-04-19T19:54:44.118Z"
   },
   {
    "duration": 9,
    "start_time": "2025-04-19T20:25:25.865Z"
   }
  ],
  "kernelspec": {
   "display_name": "Python 3 (ipykernel)",
   "language": "python",
   "name": "python3"
  },
  "language_info": {
   "codemirror_mode": {
    "name": "ipython",
    "version": 3
   },
   "file_extension": ".py",
   "mimetype": "text/x-python",
   "name": "python",
   "nbconvert_exporter": "python",
   "pygments_lexer": "ipython3",
   "version": "3.9.19"
  },
  "toc": {
   "base_numbering": 1,
   "nav_menu": {},
   "number_sections": true,
   "sideBar": true,
   "skip_h1_title": true,
   "title_cell": "Table of Contents",
   "title_sidebar": "Contents",
   "toc_cell": false,
   "toc_position": {},
   "toc_section_display": true,
   "toc_window_display": false
  }
 },
 "nbformat": 4,
 "nbformat_minor": 2
}
